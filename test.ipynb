{
 "cells": [
  {
   "cell_type": "code",
   "execution_count": 47,
   "metadata": {},
   "outputs": [],
   "source": [
    "# !pip3 install pyserial\n",
    "from serial.tools import list_ports\n",
    "\n",
    "portList = list(list_ports.comports())\n",
    "# portList=list_ports.grep('*ACM*', include_links=True)"
   ]
  },
  {
   "cell_type": "code",
   "execution_count": 46,
   "metadata": {},
   "outputs": [
    {
     "name": "stdout",
     "output_type": "stream",
     "text": [
      "/dev/ttyACM0\n",
      "7593531383635161C192\n"
     ]
    }
   ],
   "source": [
    "pid1=\"2341\"\n",
    "hid1=\"0043\"\n",
    "ser1 = '7593531383635161C192'\n",
    "arduino_port1 = None\n",
    "\n",
    "for port in portList:\n",
    "    if pid1 and hid1 and ser1 in port.hwid:\n",
    "       arduino_port1 = port.device\n",
    "       print(arduino_port1)\n",
    "    print(port.hwid.split()[2][4:])"
   ]
  },
  {
   "cell_type": "code",
   "execution_count": 48,
   "metadata": {},
   "outputs": [
    {
     "name": "stdout",
     "output_type": "stream",
     "text": [
      "/dev/ttyACM1\n",
      "USB VID:PID=2341:0042 SER=7583331383335140B121 LOCATION=1-5:1.0\n",
      "/dev/ttyACM0\n",
      "USB VID:PID=2341:0043 SER=7593531383635161C192 LOCATION=1-3:1.0\n"
     ]
    }
   ],
   "source": [
    "for port in portList:\n",
    "       print(port.device)\n",
    "       print(port.hwid)\n"
   ]
  },
  {
   "cell_type": "code",
   "execution_count": null,
   "metadata": {},
   "outputs": [],
   "source": [
    "dev_ser = dict()\n"
   ]
  },
  {
   "cell_type": "code",
   "execution_count": 71,
   "metadata": {},
   "outputs": [
    {
     "name": "stdout",
     "output_type": "stream",
     "text": [
      "b'1\\r\\n'\n",
      "b'397\\r\\n'\n"
     ]
    },
    {
     "data": {
      "text/plain": [
       "[0, 1]"
      ]
     },
     "execution_count": 71,
     "metadata": {},
     "output_type": "execute_result"
    }
   ],
   "source": [
    "from serial.tools import list_ports\n",
    "\n",
    "portList = list(list_ports.comports())\n",
    "\n",
    "dev_ser = {'7583331383335140B121':'/dev/ttyACM1', '7593531383635161C192':'/dev/ttyACM0'}\n",
    "\n",
    "ser_list = list(dev_ser.keys())\n",
    "ids = []\n",
    "\n",
    "row_list = ['\\t\\t', '\\t\\t', '\\t\\t', '\\t\\t']\n",
    "\n",
    "for port in portList:\n",
    "    ser = port.hwid.split()[2][4:]\n",
    "    ids.append(ser_list.index(ser))\n",
    "ids\n"
   ]
  },
  {
   "cell_type": "code",
   "execution_count": 73,
   "metadata": {},
   "outputs": [
    {
     "name": "stdout",
     "output_type": "stream",
     "text": [
      "b'1\\r\\n'\n",
      "b'427\\r\\n'\n",
      "b'1\\r\\n'\n",
      "b'403\\r\\n'\n",
      "b'1\\r\\n'\n",
      "b'397\\r\\n'\n",
      "b'1\\r\\n'\n",
      "b'485\\r\\n'\n",
      "b'1\\r\\n'\n",
      "b'413\\r\\n'\n",
      "b'1\\r\\n'\n",
      "b'395\\r\\n'\n",
      "b'1\\r\\n'\n"
     ]
    },
    {
     "ename": "KeyboardInterrupt",
     "evalue": "",
     "output_type": "error",
     "traceback": [
      "\u001b[0;31m---------------------------------------------------------------------------\u001b[0m",
      "\u001b[0;31mKeyboardInterrupt\u001b[0m                         Traceback (most recent call last)",
      "\u001b[0;32m<ipython-input-73-97148eb4fedf>\u001b[0m in \u001b[0;36m<module>\u001b[0;34m\u001b[0m\n\u001b[1;32m      3\u001b[0m     \u001b[0;32mfor\u001b[0m \u001b[0mport\u001b[0m \u001b[0;32min\u001b[0m \u001b[0mportList\u001b[0m\u001b[0;34m:\u001b[0m\u001b[0;34m\u001b[0m\u001b[0;34m\u001b[0m\u001b[0m\n\u001b[1;32m      4\u001b[0m         \u001b[0mser_handle\u001b[0m \u001b[0;34m=\u001b[0m \u001b[0mserial\u001b[0m\u001b[0;34m.\u001b[0m\u001b[0mSerial\u001b[0m\u001b[0;34m(\u001b[0m\u001b[0mport\u001b[0m\u001b[0;34m.\u001b[0m\u001b[0mdevice\u001b[0m\u001b[0;34m,\u001b[0m \u001b[0;36m9600\u001b[0m\u001b[0;34m,\u001b[0m \u001b[0mtimeout\u001b[0m\u001b[0;34m=\u001b[0m\u001b[0;36m2\u001b[0m\u001b[0;34m,\u001b[0m \u001b[0mxonxoff\u001b[0m\u001b[0;34m=\u001b[0m\u001b[0;32mFalse\u001b[0m\u001b[0;34m,\u001b[0m \u001b[0mrtscts\u001b[0m\u001b[0;34m=\u001b[0m\u001b[0;32mFalse\u001b[0m\u001b[0;34m,\u001b[0m \u001b[0mdsrdtr\u001b[0m\u001b[0;34m=\u001b[0m\u001b[0;32mFalse\u001b[0m\u001b[0;34m)\u001b[0m\u001b[0;34m\u001b[0m\u001b[0;34m\u001b[0m\u001b[0m\n\u001b[0;32m----> 5\u001b[0;31m         \u001b[0mprint\u001b[0m\u001b[0;34m(\u001b[0m\u001b[0mser_handle\u001b[0m\u001b[0;34m.\u001b[0m\u001b[0mreadline\u001b[0m\u001b[0;34m(\u001b[0m\u001b[0;34m)\u001b[0m\u001b[0;34m)\u001b[0m\u001b[0;34m\u001b[0m\u001b[0;34m\u001b[0m\u001b[0m\n\u001b[0m",
      "\u001b[0;32m~/.local/lib/python3.6/site-packages/serial/serialposix.py\u001b[0m in \u001b[0;36mread\u001b[0;34m(self, size)\u001b[0m\n\u001b[1;32m    563\u001b[0m         \u001b[0;32mwhile\u001b[0m \u001b[0mlen\u001b[0m\u001b[0;34m(\u001b[0m\u001b[0mread\u001b[0m\u001b[0;34m)\u001b[0m \u001b[0;34m<\u001b[0m \u001b[0msize\u001b[0m\u001b[0;34m:\u001b[0m\u001b[0;34m\u001b[0m\u001b[0;34m\u001b[0m\u001b[0m\n\u001b[1;32m    564\u001b[0m             \u001b[0;32mtry\u001b[0m\u001b[0;34m:\u001b[0m\u001b[0;34m\u001b[0m\u001b[0;34m\u001b[0m\u001b[0m\n\u001b[0;32m--> 565\u001b[0;31m                 \u001b[0mready\u001b[0m\u001b[0;34m,\u001b[0m \u001b[0m_\u001b[0m\u001b[0;34m,\u001b[0m \u001b[0m_\u001b[0m \u001b[0;34m=\u001b[0m \u001b[0mselect\u001b[0m\u001b[0;34m.\u001b[0m\u001b[0mselect\u001b[0m\u001b[0;34m(\u001b[0m\u001b[0;34m[\u001b[0m\u001b[0mself\u001b[0m\u001b[0;34m.\u001b[0m\u001b[0mfd\u001b[0m\u001b[0;34m,\u001b[0m \u001b[0mself\u001b[0m\u001b[0;34m.\u001b[0m\u001b[0mpipe_abort_read_r\u001b[0m\u001b[0;34m]\u001b[0m\u001b[0;34m,\u001b[0m \u001b[0;34m[\u001b[0m\u001b[0;34m]\u001b[0m\u001b[0;34m,\u001b[0m \u001b[0;34m[\u001b[0m\u001b[0;34m]\u001b[0m\u001b[0;34m,\u001b[0m \u001b[0mtimeout\u001b[0m\u001b[0;34m.\u001b[0m\u001b[0mtime_left\u001b[0m\u001b[0;34m(\u001b[0m\u001b[0;34m)\u001b[0m\u001b[0;34m)\u001b[0m\u001b[0;34m\u001b[0m\u001b[0;34m\u001b[0m\u001b[0m\n\u001b[0m\u001b[1;32m    566\u001b[0m                 \u001b[0;32mif\u001b[0m \u001b[0mself\u001b[0m\u001b[0;34m.\u001b[0m\u001b[0mpipe_abort_read_r\u001b[0m \u001b[0;32min\u001b[0m \u001b[0mready\u001b[0m\u001b[0;34m:\u001b[0m\u001b[0;34m\u001b[0m\u001b[0;34m\u001b[0m\u001b[0m\n\u001b[1;32m    567\u001b[0m                     \u001b[0mos\u001b[0m\u001b[0;34m.\u001b[0m\u001b[0mread\u001b[0m\u001b[0;34m(\u001b[0m\u001b[0mself\u001b[0m\u001b[0;34m.\u001b[0m\u001b[0mpipe_abort_read_r\u001b[0m\u001b[0;34m,\u001b[0m \u001b[0;36m1000\u001b[0m\u001b[0;34m)\u001b[0m\u001b[0;34m\u001b[0m\u001b[0;34m\u001b[0m\u001b[0m\n",
      "\u001b[0;31mKeyboardInterrupt\u001b[0m: "
     ]
    }
   ],
   "source": [
    "\n"
   ]
  },
  {
   "cell_type": "code",
   "execution_count": 1,
   "metadata": {},
   "outputs": [],
   "source": [
    "from serial.tools import list_ports\n",
    "\n",
    "device_ids = []\n",
    "portList = list(list_ports.comports())\n",
    "for port in portList:\n",
    "    device_ids.append(port.hwid.split()[2][4:]+\"\\t\")\n",
    "device_ids.append('\\n')\n",
    "\n",
    "with open(\"arduino_data.txt\", \"w\") as f:\n",
    "    f.writelines(device_ids)\n",
    "    f.close()"
   ]
  },
  {
   "cell_type": "code",
   "execution_count": null,
   "metadata": {
    "tags": []
   },
   "outputs": [
    {
     "name": "stdout",
     "output_type": "stream",
     "text": [
      "Reading from 2 devices.\n",
      "['0,', '1,', ',', ',', '\\n']\n",
      "Reading from 2 devices.\n",
      "['0,', '1,', ',', ',', '\\n']\n",
      "Reading from 2 devices.\n",
      "['0,', '1,', ',', ',', '\\n']\n",
      "Reading from 1 devices.\n",
      "['0,', ',', ',', ',', '\\n']\n",
      "Reading from 1 devices.\n",
      "['0,', ',', ',', ',', '\\n']\n",
      "Reading from 1 devices.\n",
      "['0,', ',', ',', ',', '\\n']\n",
      "Reading from 1 devices.\n",
      "['0,', ',', ',', ',', '\\n']\n",
      "Reading from 1 devices.\n",
      "['0,', ',', ',', ',', '\\n']\n",
      "Reading from 1 devices.\n",
      "['0,', ',', ',', ',', '\\n']\n",
      "Reading from 1 devices.\n",
      "['0,', ',', ',', ',', '\\n']\n",
      "Reading from 1 devices.\n",
      "['0,', ',', ',', ',', '\\n']\n",
      "Reading from 1 devices.\n",
      "['0,', ',', ',', ',', '\\n']\n",
      "Reading from 1 devices.\n",
      "['0,', ',', ',', ',', '\\n']\n",
      "Reading from 1 devices.\n",
      "['0,', ',', ',', ',', '\\n']\n",
      "Reading from 1 devices.\n",
      "['0,', ',', ',', ',', '\\n']\n",
      "Reading from 1 devices.\n",
      "['0,', ',', ',', ',', '\\n']\n",
      "Reading from 1 devices.\n",
      "['0,', ',', ',', ',', '\\n']\n",
      "Reading from 1 devices.\n",
      "['0,', ',', ',', ',', '\\n']\n",
      "Reading from 1 devices.\n",
      "['0,', ',', ',', ',', '\\n']\n",
      "Reading from 1 devices.\n",
      "['0,', ',', ',', ',', '\\n']\n",
      "Reading from 1 devices.\n",
      "['0,', ',', ',', ',', '\\n']\n",
      "Reading from 2 devices.\n",
      "['0,', '1,', ',', ',', '\\n']\n",
      "Reading from 2 devices.\n",
      "['0,', '1,', ',', ',', '\\n']\n",
      "Reading from 2 devices.\n",
      "['0,', '1,', ',', ',', '\\n']\n",
      "Reading from 2 devices.\n",
      "['0,', '1,', ',', ',', '\\n']\n",
      "Reading from 1 devices.\n",
      "[',', '1,', ',', ',', '\\n']\n",
      "Reading from 1 devices.\n",
      "[',', '1,', ',', ',', '\\n']\n",
      "Reading from 1 devices.\n",
      "[',', '1,', ',', ',', '\\n']\n",
      "Reading from 1 devices.\n",
      "[',', '1,', ',', ',', '\\n']\n",
      "Reading from 1 devices.\n",
      "[',', '1,', ',', ',', '\\n']\n",
      "Reading from 1 devices.\n",
      "[',', '1,', ',', ',', '\\n']\n",
      "Reading from 1 devices.\n",
      "[',', '1,', ',', ',', '\\n']\n",
      "Reading from 1 devices.\n",
      "[',', '1,', ',', ',', '\\n']\n",
      "Reading from 1 devices.\n",
      "[',', '1,', ',', ',', '\\n']\n",
      "Reading from 1 devices.\n",
      "[',', '1,', ',', ',', '\\n']\n",
      "Reading from 1 devices.\n",
      "[',', '1,', ',', ',', '\\n']\n",
      "Reading from 1 devices.\n",
      "[',', '1,', ',', ',', '\\n']\n",
      "Reading from 1 devices.\n",
      "[',', '1,', ',', ',', '\\n']\n",
      "Reading from 1 devices.\n",
      "[',', '1,', ',', ',', '\\n']\n",
      "Reading from 1 devices.\n",
      "[',', '1,', ',', ',', '\\n']\n",
      "Reading from 1 devices.\n",
      "[',', '1,', ',', ',', '\\n']\n",
      "Reading from 1 devices.\n",
      "[',', '1,', ',', ',', '\\n']\n",
      "Reading from 1 devices.\n",
      "[',', '1,', ',', ',', '\\n']\n",
      "Reading from 1 devices.\n",
      "[',', '1,', ',', ',', '\\n']\n",
      "Reading from 1 devices.\n",
      "[',', '1,', ',', ',', '\\n']\n",
      "Reading from 1 devices.\n",
      "[',', '1,', ',', ',', '\\n']\n",
      "Reading from 1 devices.\n",
      "[',', '1,', ',', ',', '\\n']\n",
      "Reading from 1 devices.\n",
      "[',', '1,', ',', ',', '\\n']\n",
      "Reading from 1 devices.\n",
      "[',', '1,', ',', ',', '\\n']\n",
      "Reading from 1 devices.\n",
      "[',', '1,', ',', ',', '\\n']\n",
      "Reading from 1 devices.\n",
      "[',', '1,', ',', ',', '\\n']\n",
      "Reading from 1 devices.\n",
      "[',', '1,', ',', ',', '\\n']\n",
      "Reading from 1 devices.\n",
      "[',', '1,', ',', ',', '\\n']\n",
      "Reading from 2 devices.\n",
      "['0,', '1,', ',', ',', '\\n']\n",
      "Reading from 2 devices.\n",
      "['0,', '1,', ',', ',', '\\n']\n",
      "Reading from 2 devices.\n",
      "['0,', '1,', ',', ',', '\\n']\n",
      "Reading from 2 devices.\n",
      "['0,', '1,', ',', ',', '\\n']\n",
      "Reading from 1 devices.\n",
      "[',', '1,', ',', ',', '\\n']\n"
     ]
    }
   ],
   "source": [
    "import serial \n",
    "f = open(\"arduino_data.txt\", \"r\")\n",
    "\n",
    "file_header = f.readline().split('\\t')[:-1]\n",
    "f.close()\n",
    "\n",
    "with open(\"arduino_data.txt\", \"a\") as f:\n",
    "\n",
    "    while True:\n",
    "        portList = list(list_ports.comports())\n",
    "        row_list = [',', ',', ',', ',', '\\n']\n",
    "#         print(len(portList))\n",
    "        for port in portList:\n",
    "            try:\n",
    "                ser_handle = serial.Serial(port.device, 19200, timeout=2)\n",
    "                data = ser_handle.readline().decode('utf-8').rstrip()\n",
    "\n",
    "                data = data+','\n",
    "\n",
    "#                 print(type(data))\n",
    "                ser_handle.close()\n",
    "                device_id = port.hwid.split()[2][4:]\n",
    "                col_idx = file_header.index(device_id)\n",
    "                row_list[col_idx] = data\n",
    "\n",
    "            except:\n",
    "                continue \n",
    "\n",
    "        empty_data_fields = row_list.count(',')\n",
    "        if empty_data_fields < 4: \n",
    "            print(f'Reading from {4-empty_data_fields} devices.')\n",
    "            print(row_list)\n",
    "            f.writelines(row_list)\n",
    "            f.flush()\n",
    "\n",
    "\n",
    "    f.close()"
   ]
  },
  {
   "cell_type": "code",
   "execution_count": 1,
   "metadata": {},
   "outputs": [],
   "source": [
    "f = open(\"arduino_data.txt\", \"a\")\n",
    "f.writelines(['asdasdd\\t','sdaa', '\\n'])"
   ]
  },
  {
   "cell_type": "code",
   "execution_count": 165,
   "metadata": {},
   "outputs": [
    {
     "data": {
      "text/plain": [
       "['7583331383335140B121', '7593531383635161C192']"
      ]
     },
     "execution_count": 165,
     "metadata": {},
     "output_type": "execute_result"
    }
   ],
   "source": [
    "f = open(\"arduino_data.txt\", \"r\")\n",
    "\n",
    "file_header = f.readline().split('\\t')[:-1]\n",
    "file_header"
   ]
  },
  {
   "cell_type": "code",
   "execution_count": 2,
   "metadata": {},
   "outputs": [
    {
     "data": {
      "text/plain": [
       "3"
      ]
     },
     "execution_count": 2,
     "metadata": {},
     "output_type": "execute_result"
    }
   ],
   "source": [
    "row_list = ['459,', ',', ',', ',', '\\n']\n",
    "row_list.count(',') "
   ]
  },
  {
   "cell_type": "code",
   "execution_count": null,
   "metadata": {},
   "outputs": [],
   "source": []
  }
 ],
 "metadata": {
  "kernelspec": {
   "display_name": "Python 3.6.9 64-bit",
   "language": "python",
   "name": "python369jvsc74a57bd031f2aee4e71d21fbe5cf8b01ff0e069b9275f58929596ceb00d14d90e3e16cd6"
  },
  "language_info": {
   "codemirror_mode": {
    "name": "ipython",
    "version": 3
   },
   "file_extension": ".py",
   "mimetype": "text/x-python",
   "name": "python",
   "nbconvert_exporter": "python",
   "pygments_lexer": "ipython3",
   "version": "3.6.9"
  },
  "metadata": {
   "interpreter": {
    "hash": "31f2aee4e71d21fbe5cf8b01ff0e069b9275f58929596ceb00d14d90e3e16cd6"
   }
  }
 },
 "nbformat": 4,
 "nbformat_minor": 4
}
